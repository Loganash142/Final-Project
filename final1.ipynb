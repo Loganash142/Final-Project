{
 "cells": [
  {
   "cell_type": "markdown",
   "id": "1b083b2e",
   "metadata": {},
   "source": [
    "# Final Project: Wine Quality Data Cleaning\n",
    "\n",
    "**Author:** Logan Ash\n",
    "**Date:** 2025-05-13\n",
    "\n",
    "This notebook focuses on data cleaning steps applied to the Wine Quality dataset. We will document each cleaning action and provide rationale."
   ]
  },
  {
   "cell_type": "markdown",
   "id": "0a8b4054",
   "metadata": {},
   "source": [
    "# Wine Quality Dataset Analysis (Red & White Wines)\n",
    "\n",
    "This notebook analyzes and compares the UCI Red and White Wine Quality datasets using summary statistics and simple data exploration.\n"
   ]
  },
  {
   "cell_type": "code",
   "execution_count": 10,
   "id": "bd34a03f",
   "metadata": {},
   "outputs": [
    {
     "name": "stdout",
     "output_type": "stream",
     "text": [
      "Requirement already satisfied: jinja2 in c:\\users\\logan\\appdata\\local\\packages\\pythonsoftwarefoundation.python.3.11_qbz5n2kfra8p0\\localcache\\local-packages\\python311\\site-packages (3.1.6)\n",
      "Requirement already satisfied: MarkupSafe>=2.0 in c:\\users\\logan\\appdata\\local\\packages\\pythonsoftwarefoundation.python.3.11_qbz5n2kfra8p0\\localcache\\local-packages\\python311\\site-packages (from jinja2) (3.0.2)\n",
      "Note: you may need to restart the kernel to use updated packages.\n"
     ]
    },
    {
     "name": "stderr",
     "output_type": "stream",
     "text": [
      "\n",
      "[notice] A new release of pip is available: 24.0 -> 25.1.1\n",
      "[notice] To update, run: C:\\Users\\logan\\AppData\\Local\\Microsoft\\WindowsApps\\PythonSoftwareFoundation.Python.3.11_qbz5n2kfra8p0\\python.exe -m pip install --upgrade pip\n"
     ]
    }
   ],
   "source": [
    "%pip install jinja2"
   ]
  },
  {
   "cell_type": "code",
   "execution_count": 11,
   "id": "eab24323",
   "metadata": {},
   "outputs": [],
   "source": [
    "import pandas as pd\n",
    "import numpy as np\n",
    "import matplotlib.pyplot as plt\n",
    "import seaborn as sns\n",
    "from IPython.display import display, Markdown\n",
    "\n",
    "# Plot style\n",
    "sns.set(style=\"whitegrid\")\n"
   ]
  },
  {
   "cell_type": "markdown",
   "id": "a2ee1773",
   "metadata": {},
   "source": [
    "## Load the Red and White Wine Quality Data\n",
    "\n",
    "We load both datasets directly from the UCI repository and add a 'type' column to each.\n"
   ]
  },
  {
   "cell_type": "code",
   "execution_count": 12,
   "id": "25233d88",
   "metadata": {},
   "outputs": [
    {
     "data": {
      "text/html": [
       "<div>\n",
       "<style scoped>\n",
       "    .dataframe tbody tr th:only-of-type {\n",
       "        vertical-align: middle;\n",
       "    }\n",
       "\n",
       "    .dataframe tbody tr th {\n",
       "        vertical-align: top;\n",
       "    }\n",
       "\n",
       "    .dataframe thead th {\n",
       "        text-align: right;\n",
       "    }\n",
       "</style>\n",
       "<table border=\"1\" class=\"dataframe\">\n",
       "  <thead>\n",
       "    <tr style=\"text-align: right;\">\n",
       "      <th></th>\n",
       "      <th>fixed_acidity</th>\n",
       "      <th>volatile_acidity</th>\n",
       "      <th>citric_acid</th>\n",
       "      <th>residual_sugar</th>\n",
       "      <th>chlorides</th>\n",
       "      <th>free_sulfur_dioxide</th>\n",
       "      <th>total_sulfur_dioxide</th>\n",
       "      <th>density</th>\n",
       "      <th>ph</th>\n",
       "      <th>sulphates</th>\n",
       "      <th>alcohol</th>\n",
       "      <th>quality</th>\n",
       "      <th>type</th>\n",
       "    </tr>\n",
       "  </thead>\n",
       "  <tbody>\n",
       "    <tr>\n",
       "      <th>0</th>\n",
       "      <td>7.4</td>\n",
       "      <td>0.70</td>\n",
       "      <td>0.00</td>\n",
       "      <td>1.9</td>\n",
       "      <td>0.076</td>\n",
       "      <td>11.0</td>\n",
       "      <td>34.0</td>\n",
       "      <td>0.9978</td>\n",
       "      <td>3.51</td>\n",
       "      <td>0.56</td>\n",
       "      <td>9.4</td>\n",
       "      <td>5</td>\n",
       "      <td>red</td>\n",
       "    </tr>\n",
       "    <tr>\n",
       "      <th>1</th>\n",
       "      <td>7.8</td>\n",
       "      <td>0.88</td>\n",
       "      <td>0.00</td>\n",
       "      <td>2.6</td>\n",
       "      <td>0.098</td>\n",
       "      <td>25.0</td>\n",
       "      <td>67.0</td>\n",
       "      <td>0.9968</td>\n",
       "      <td>3.20</td>\n",
       "      <td>0.68</td>\n",
       "      <td>9.8</td>\n",
       "      <td>5</td>\n",
       "      <td>red</td>\n",
       "    </tr>\n",
       "    <tr>\n",
       "      <th>2</th>\n",
       "      <td>7.8</td>\n",
       "      <td>0.76</td>\n",
       "      <td>0.04</td>\n",
       "      <td>2.3</td>\n",
       "      <td>0.092</td>\n",
       "      <td>15.0</td>\n",
       "      <td>54.0</td>\n",
       "      <td>0.9970</td>\n",
       "      <td>3.26</td>\n",
       "      <td>0.65</td>\n",
       "      <td>9.8</td>\n",
       "      <td>5</td>\n",
       "      <td>red</td>\n",
       "    </tr>\n",
       "    <tr>\n",
       "      <th>3</th>\n",
       "      <td>11.2</td>\n",
       "      <td>0.28</td>\n",
       "      <td>0.56</td>\n",
       "      <td>1.9</td>\n",
       "      <td>0.075</td>\n",
       "      <td>17.0</td>\n",
       "      <td>60.0</td>\n",
       "      <td>0.9980</td>\n",
       "      <td>3.16</td>\n",
       "      <td>0.58</td>\n",
       "      <td>9.8</td>\n",
       "      <td>6</td>\n",
       "      <td>red</td>\n",
       "    </tr>\n",
       "    <tr>\n",
       "      <th>4</th>\n",
       "      <td>7.4</td>\n",
       "      <td>0.70</td>\n",
       "      <td>0.00</td>\n",
       "      <td>1.9</td>\n",
       "      <td>0.076</td>\n",
       "      <td>11.0</td>\n",
       "      <td>34.0</td>\n",
       "      <td>0.9978</td>\n",
       "      <td>3.51</td>\n",
       "      <td>0.56</td>\n",
       "      <td>9.4</td>\n",
       "      <td>5</td>\n",
       "      <td>red</td>\n",
       "    </tr>\n",
       "  </tbody>\n",
       "</table>\n",
       "</div>"
      ],
      "text/plain": [
       "   fixed_acidity  volatile_acidity  citric_acid  residual_sugar  chlorides  \\\n",
       "0            7.4              0.70         0.00             1.9      0.076   \n",
       "1            7.8              0.88         0.00             2.6      0.098   \n",
       "2            7.8              0.76         0.04             2.3      0.092   \n",
       "3           11.2              0.28         0.56             1.9      0.075   \n",
       "4            7.4              0.70         0.00             1.9      0.076   \n",
       "\n",
       "   free_sulfur_dioxide  total_sulfur_dioxide  density    ph  sulphates  \\\n",
       "0                 11.0                  34.0   0.9978  3.51       0.56   \n",
       "1                 25.0                  67.0   0.9968  3.20       0.68   \n",
       "2                 15.0                  54.0   0.9970  3.26       0.65   \n",
       "3                 17.0                  60.0   0.9980  3.16       0.58   \n",
       "4                 11.0                  34.0   0.9978  3.51       0.56   \n",
       "\n",
       "   alcohol  quality type  \n",
       "0      9.4        5  red  \n",
       "1      9.8        5  red  \n",
       "2      9.8        5  red  \n",
       "3      9.8        6  red  \n",
       "4      9.4        5  red  "
      ]
     },
     "metadata": {},
     "output_type": "display_data"
    }
   ],
   "source": [
    "# Load data\n",
    "red_url = \"https://archive.ics.uci.edu/ml/machine-learning-databases/wine-quality/winequality-red.csv\"\n",
    "white_url = \"https://archive.ics.uci.edu/ml/machine-learning-databases/wine-quality/winequality-white.csv\"\n",
    "\n",
    "red = pd.read_csv(red_url, sep=';')\n",
    "red['type'] = 'red'\n",
    "white = pd.read_csv(white_url, sep=';')\n",
    "white['type'] = 'white'\n",
    "\n",
    "df = pd.concat([red, white], ignore_index=True)\n",
    "df.columns = [c.strip().lower().replace(' ', '_') for c in df.columns]\n",
    "display(df.head())\n"
   ]
  },
  {
   "cell_type": "markdown",
   "id": "511f3eaf",
   "metadata": {},
   "source": [
    "## Data Cleaning\n",
    "\n",
    "We check for missing values and duplicates.\n"
   ]
  },
  {
   "cell_type": "code",
   "execution_count": 13,
   "id": "58d16c7a",
   "metadata": {},
   "outputs": [
    {
     "data": {
      "text/markdown": [
       "**Missing values:** 0"
      ],
      "text/plain": [
       "<IPython.core.display.Markdown object>"
      ]
     },
     "metadata": {},
     "output_type": "display_data"
    },
    {
     "data": {
      "text/markdown": [
       "**Duplicate rows:** 1177"
      ],
      "text/plain": [
       "<IPython.core.display.Markdown object>"
      ]
     },
     "metadata": {},
     "output_type": "display_data"
    }
   ],
   "source": [
    "# Check for missing values and duplicates\n",
    "missing = df.isnull().sum().sum()\n",
    "dupes = df.duplicated().sum()\n",
    "display(Markdown(f\"**Missing values:** {missing}\"))\n",
    "display(Markdown(f\"**Duplicate rows:** {dupes}\"))\n",
    "\n",
    "# Drop duplicates (if any)\n",
    "df = df.drop_duplicates()\n"
   ]
  },
  {
   "cell_type": "markdown",
   "id": "2729adf5",
   "metadata": {},
   "source": [
    "## Question 1: What are the summary statistics (mean, median, standard deviation, min, max) for each physicochemical property in the wine dataset?\n"
   ]
  },
  {
   "cell_type": "code",
   "execution_count": 14,
   "id": "ced0a055",
   "metadata": {},
   "outputs": [
    {
     "data": {
      "text/html": [
       "<style type=\"text/css\">\n",
       "#T_7376d_row0_col0 {\n",
       "  background-color: #eaf3fb;\n",
       "  color: #000000;\n",
       "}\n",
       "#T_7376d_row0_col1 {\n",
       "  background-color: #ebf3fb;\n",
       "  color: #000000;\n",
       "}\n",
       "#T_7376d_row0_col2, #T_7376d_row3_col1, #T_7376d_row10_col2 {\n",
       "  background-color: #f3f8fe;\n",
       "  color: #000000;\n",
       "}\n",
       "#T_7376d_row0_col3 {\n",
       "  background-color: #75b4d8;\n",
       "  color: #000000;\n",
       "}\n",
       "#T_7376d_row0_col4, #T_7376d_row10_col4 {\n",
       "  background-color: #f1f7fd;\n",
       "  color: #000000;\n",
       "}\n",
       "#T_7376d_row1_col0, #T_7376d_row1_col1, #T_7376d_row1_col2, #T_7376d_row1_col4, #T_7376d_row2_col0, #T_7376d_row2_col1, #T_7376d_row2_col2, #T_7376d_row2_col3, #T_7376d_row2_col4, #T_7376d_row4_col0, #T_7376d_row4_col1, #T_7376d_row4_col2, #T_7376d_row4_col3, #T_7376d_row4_col4, #T_7376d_row7_col2, #T_7376d_row7_col4, #T_7376d_row8_col2, #T_7376d_row9_col2, #T_7376d_row9_col4 {\n",
       "  background-color: #f7fbff;\n",
       "  color: #000000;\n",
       "}\n",
       "#T_7376d_row1_col3, #T_7376d_row7_col0, #T_7376d_row7_col1 {\n",
       "  background-color: #f5fafe;\n",
       "  color: #000000;\n",
       "}\n",
       "#T_7376d_row3_col0, #T_7376d_row11_col0 {\n",
       "  background-color: #eef5fc;\n",
       "  color: #000000;\n",
       "}\n",
       "#T_7376d_row3_col2 {\n",
       "  background-color: #e7f1fa;\n",
       "  color: #000000;\n",
       "}\n",
       "#T_7376d_row3_col3 {\n",
       "  background-color: #e8f1fa;\n",
       "  color: #000000;\n",
       "}\n",
       "#T_7376d_row3_col4 {\n",
       "  background-color: #dae8f6;\n",
       "  color: #000000;\n",
       "}\n",
       "#T_7376d_row5_col0 {\n",
       "  background-color: #c2d9ee;\n",
       "  color: #000000;\n",
       "}\n",
       "#T_7376d_row5_col1 {\n",
       "  background-color: #c8dcf0;\n",
       "  color: #000000;\n",
       "}\n",
       "#T_7376d_row5_col2 {\n",
       "  background-color: #b2d2e8;\n",
       "  color: #000000;\n",
       "}\n",
       "#T_7376d_row5_col3 {\n",
       "  background-color: #deebf7;\n",
       "  color: #000000;\n",
       "}\n",
       "#T_7376d_row5_col4 {\n",
       "  background-color: #3989c1;\n",
       "  color: #f1f1f1;\n",
       "}\n",
       "#T_7376d_row6_col0, #T_7376d_row6_col1, #T_7376d_row6_col2, #T_7376d_row6_col4, #T_7376d_row10_col3 {\n",
       "  background-color: #08306b;\n",
       "  color: #f1f1f1;\n",
       "}\n",
       "#T_7376d_row6_col3 {\n",
       "  background-color: #2070b4;\n",
       "  color: #f1f1f1;\n",
       "}\n",
       "#T_7376d_row7_col3 {\n",
       "  background-color: #dfebf7;\n",
       "  color: #000000;\n",
       "}\n",
       "#T_7376d_row8_col0, #T_7376d_row9_col3 {\n",
       "  background-color: #f2f7fd;\n",
       "  color: #000000;\n",
       "}\n",
       "#T_7376d_row8_col1 {\n",
       "  background-color: #f2f8fd;\n",
       "  color: #000000;\n",
       "}\n",
       "#T_7376d_row8_col3 {\n",
       "  background-color: #a9cfe5;\n",
       "  color: #000000;\n",
       "}\n",
       "#T_7376d_row8_col4, #T_7376d_row9_col0, #T_7376d_row9_col1 {\n",
       "  background-color: #f6faff;\n",
       "  color: #000000;\n",
       "}\n",
       "#T_7376d_row10_col0 {\n",
       "  background-color: #e5eff9;\n",
       "  color: #000000;\n",
       "}\n",
       "#T_7376d_row10_col1 {\n",
       "  background-color: #e6f0f9;\n",
       "  color: #000000;\n",
       "}\n",
       "#T_7376d_row11_col1 {\n",
       "  background-color: #edf4fc;\n",
       "  color: #000000;\n",
       "}\n",
       "#T_7376d_row11_col2 {\n",
       "  background-color: #f5f9fe;\n",
       "  color: #000000;\n",
       "}\n",
       "#T_7376d_row11_col3 {\n",
       "  background-color: #9dcae1;\n",
       "  color: #000000;\n",
       "}\n",
       "#T_7376d_row11_col4 {\n",
       "  background-color: #f4f9fe;\n",
       "  color: #000000;\n",
       "}\n",
       "</style>\n",
       "<table id=\"T_7376d\">\n",
       "  <thead>\n",
       "    <tr>\n",
       "      <th class=\"blank level0\" >&nbsp;</th>\n",
       "      <th id=\"T_7376d_level0_col0\" class=\"col_heading level0 col0\" >mean</th>\n",
       "      <th id=\"T_7376d_level0_col1\" class=\"col_heading level0 col1\" >median</th>\n",
       "      <th id=\"T_7376d_level0_col2\" class=\"col_heading level0 col2\" >std</th>\n",
       "      <th id=\"T_7376d_level0_col3\" class=\"col_heading level0 col3\" >min</th>\n",
       "      <th id=\"T_7376d_level0_col4\" class=\"col_heading level0 col4\" >max</th>\n",
       "    </tr>\n",
       "  </thead>\n",
       "  <tbody>\n",
       "    <tr>\n",
       "      <th id=\"T_7376d_level0_row0\" class=\"row_heading level0 row0\" >fixed_acidity</th>\n",
       "      <td id=\"T_7376d_row0_col0\" class=\"data row0 col0\" >7.215179</td>\n",
       "      <td id=\"T_7376d_row0_col1\" class=\"data row0 col1\" >7.000000</td>\n",
       "      <td id=\"T_7376d_row0_col2\" class=\"data row0 col2\" >1.319671</td>\n",
       "      <td id=\"T_7376d_row0_col3\" class=\"data row0 col3\" >3.800000</td>\n",
       "      <td id=\"T_7376d_row0_col4\" class=\"data row0 col4\" >15.900000</td>\n",
       "    </tr>\n",
       "    <tr>\n",
       "      <th id=\"T_7376d_level0_row1\" class=\"row_heading level0 row1\" >volatile_acidity</th>\n",
       "      <td id=\"T_7376d_row1_col0\" class=\"data row1 col0\" >0.344130</td>\n",
       "      <td id=\"T_7376d_row1_col1\" class=\"data row1 col1\" >0.300000</td>\n",
       "      <td id=\"T_7376d_row1_col2\" class=\"data row1 col2\" >0.168248</td>\n",
       "      <td id=\"T_7376d_row1_col3\" class=\"data row1 col3\" >0.080000</td>\n",
       "      <td id=\"T_7376d_row1_col4\" class=\"data row1 col4\" >1.580000</td>\n",
       "    </tr>\n",
       "    <tr>\n",
       "      <th id=\"T_7376d_level0_row2\" class=\"row_heading level0 row2\" >citric_acid</th>\n",
       "      <td id=\"T_7376d_row2_col0\" class=\"data row2 col0\" >0.318494</td>\n",
       "      <td id=\"T_7376d_row2_col1\" class=\"data row2 col1\" >0.310000</td>\n",
       "      <td id=\"T_7376d_row2_col2\" class=\"data row2 col2\" >0.147157</td>\n",
       "      <td id=\"T_7376d_row2_col3\" class=\"data row2 col3\" >0.000000</td>\n",
       "      <td id=\"T_7376d_row2_col4\" class=\"data row2 col4\" >1.660000</td>\n",
       "    </tr>\n",
       "    <tr>\n",
       "      <th id=\"T_7376d_level0_row3\" class=\"row_heading level0 row3\" >residual_sugar</th>\n",
       "      <td id=\"T_7376d_row3_col0\" class=\"data row3 col0\" >5.048477</td>\n",
       "      <td id=\"T_7376d_row3_col1\" class=\"data row3 col1\" >2.700000</td>\n",
       "      <td id=\"T_7376d_row3_col2\" class=\"data row3 col2\" >4.500180</td>\n",
       "      <td id=\"T_7376d_row3_col3\" class=\"data row3 col3\" >0.600000</td>\n",
       "      <td id=\"T_7376d_row3_col4\" class=\"data row3 col4\" >65.800000</td>\n",
       "    </tr>\n",
       "    <tr>\n",
       "      <th id=\"T_7376d_level0_row4\" class=\"row_heading level0 row4\" >chlorides</th>\n",
       "      <td id=\"T_7376d_row4_col0\" class=\"data row4 col0\" >0.056690</td>\n",
       "      <td id=\"T_7376d_row4_col1\" class=\"data row4 col1\" >0.047000</td>\n",
       "      <td id=\"T_7376d_row4_col2\" class=\"data row4 col2\" >0.036863</td>\n",
       "      <td id=\"T_7376d_row4_col3\" class=\"data row4 col3\" >0.009000</td>\n",
       "      <td id=\"T_7376d_row4_col4\" class=\"data row4 col4\" >0.611000</td>\n",
       "    </tr>\n",
       "    <tr>\n",
       "      <th id=\"T_7376d_level0_row5\" class=\"row_heading level0 row5\" >free_sulfur_dioxide</th>\n",
       "      <td id=\"T_7376d_row5_col0\" class=\"data row5 col0\" >30.036654</td>\n",
       "      <td id=\"T_7376d_row5_col1\" class=\"data row5 col1\" >28.000000</td>\n",
       "      <td id=\"T_7376d_row5_col2\" class=\"data row5 col2\" >17.805045</td>\n",
       "      <td id=\"T_7376d_row5_col3\" class=\"data row5 col3\" >1.000000</td>\n",
       "      <td id=\"T_7376d_row5_col4\" class=\"data row5 col4\" >289.000000</td>\n",
       "    </tr>\n",
       "    <tr>\n",
       "      <th id=\"T_7376d_level0_row6\" class=\"row_heading level0 row6\" >total_sulfur_dioxide</th>\n",
       "      <td id=\"T_7376d_row6_col0\" class=\"data row6 col0\" >114.109023</td>\n",
       "      <td id=\"T_7376d_row6_col1\" class=\"data row6 col1\" >116.000000</td>\n",
       "      <td id=\"T_7376d_row6_col2\" class=\"data row6 col2\" >56.774223</td>\n",
       "      <td id=\"T_7376d_row6_col3\" class=\"data row6 col3\" >6.000000</td>\n",
       "      <td id=\"T_7376d_row6_col4\" class=\"data row6 col4\" >440.000000</td>\n",
       "    </tr>\n",
       "    <tr>\n",
       "      <th id=\"T_7376d_level0_row7\" class=\"row_heading level0 row7\" >density</th>\n",
       "      <td id=\"T_7376d_row7_col0\" class=\"data row7 col0\" >0.994535</td>\n",
       "      <td id=\"T_7376d_row7_col1\" class=\"data row7 col1\" >0.994650</td>\n",
       "      <td id=\"T_7376d_row7_col2\" class=\"data row7 col2\" >0.002966</td>\n",
       "      <td id=\"T_7376d_row7_col3\" class=\"data row7 col3\" >0.987110</td>\n",
       "      <td id=\"T_7376d_row7_col4\" class=\"data row7 col4\" >1.038980</td>\n",
       "    </tr>\n",
       "    <tr>\n",
       "      <th id=\"T_7376d_level0_row8\" class=\"row_heading level0 row8\" >ph</th>\n",
       "      <td id=\"T_7376d_row8_col0\" class=\"data row8 col0\" >3.224664</td>\n",
       "      <td id=\"T_7376d_row8_col1\" class=\"data row8 col1\" >3.210000</td>\n",
       "      <td id=\"T_7376d_row8_col2\" class=\"data row8 col2\" >0.160379</td>\n",
       "      <td id=\"T_7376d_row8_col3\" class=\"data row8 col3\" >2.720000</td>\n",
       "      <td id=\"T_7376d_row8_col4\" class=\"data row8 col4\" >4.010000</td>\n",
       "    </tr>\n",
       "    <tr>\n",
       "      <th id=\"T_7376d_level0_row9\" class=\"row_heading level0 row9\" >sulphates</th>\n",
       "      <td id=\"T_7376d_row9_col0\" class=\"data row9 col0\" >0.533357</td>\n",
       "      <td id=\"T_7376d_row9_col1\" class=\"data row9 col1\" >0.510000</td>\n",
       "      <td id=\"T_7376d_row9_col2\" class=\"data row9 col2\" >0.149743</td>\n",
       "      <td id=\"T_7376d_row9_col3\" class=\"data row9 col3\" >0.220000</td>\n",
       "      <td id=\"T_7376d_row9_col4\" class=\"data row9 col4\" >2.000000</td>\n",
       "    </tr>\n",
       "    <tr>\n",
       "      <th id=\"T_7376d_level0_row10\" class=\"row_heading level0 row10\" >alcohol</th>\n",
       "      <td id=\"T_7376d_row10_col0\" class=\"data row10 col0\" >10.549241</td>\n",
       "      <td id=\"T_7376d_row10_col1\" class=\"data row10 col1\" >10.400000</td>\n",
       "      <td id=\"T_7376d_row10_col2\" class=\"data row10 col2\" >1.185933</td>\n",
       "      <td id=\"T_7376d_row10_col3\" class=\"data row10 col3\" >8.000000</td>\n",
       "      <td id=\"T_7376d_row10_col4\" class=\"data row10 col4\" >14.900000</td>\n",
       "    </tr>\n",
       "    <tr>\n",
       "      <th id=\"T_7376d_level0_row11\" class=\"row_heading level0 row11\" >quality</th>\n",
       "      <td id=\"T_7376d_row11_col0\" class=\"data row11 col0\" >5.795677</td>\n",
       "      <td id=\"T_7376d_row11_col1\" class=\"data row11 col1\" >6.000000</td>\n",
       "      <td id=\"T_7376d_row11_col2\" class=\"data row11 col2\" >0.879772</td>\n",
       "      <td id=\"T_7376d_row11_col3\" class=\"data row11 col3\" >3.000000</td>\n",
       "      <td id=\"T_7376d_row11_col4\" class=\"data row11 col4\" >9.000000</td>\n",
       "    </tr>\n",
       "  </tbody>\n",
       "</table>\n"
      ],
      "text/plain": [
       "<pandas.io.formats.style.Styler at 0x1d8356f2190>"
      ]
     },
     "metadata": {},
     "output_type": "display_data"
    },
    {
     "data": {
      "text/markdown": [
       "**Key takeaway:**\n",
       "\n",
       "- Alcohol mean: **10.55**\n",
       "- pH mean: **3.22**\n",
       "- Quality mean: **5.80**"
      ],
      "text/plain": [
       "<IPython.core.display.Markdown object>"
      ]
     },
     "metadata": {},
     "output_type": "display_data"
    }
   ],
   "source": [
    "summary_stats = df.describe().T\n",
    "summary_stats['median'] = df.median(numeric_only=True)\n",
    "summary_stats = summary_stats[['mean', 'median', 'std', 'min', 'max']]\n",
    "display(summary_stats.style.background_gradient(axis=0, cmap='Blues'))\n",
    "display(Markdown(\n",
    "    f\"**Key takeaway:**\\n\\n\"\n",
    "    f\"- Alcohol mean: **{summary_stats.loc['alcohol','mean']:.2f}**\\n\"\n",
    "    f\"- pH mean: **{summary_stats.loc['ph','mean']:.2f}**\\n\"\n",
    "    f\"- Quality mean: **{summary_stats.loc['quality','mean']:.2f}**\"\n",
    "))\n"
   ]
  },
  {
   "cell_type": "markdown",
   "id": "784e150b",
   "metadata": {},
   "source": [
    "## Question 2: Which chemical properties show the greatest and least variation among the wines?\n"
   ]
  },
  {
   "cell_type": "code",
   "execution_count": 15,
   "id": "6ffc3f15",
   "metadata": {},
   "outputs": [
    {
     "data": {
      "text/html": [
       "<style type=\"text/css\">\n",
       "#T_c8c41_row0_col0 {\n",
       "  background-color: #7f2704;\n",
       "  color: #f1f1f1;\n",
       "}\n",
       "#T_c8c41_row1_col0 {\n",
       "  background-color: #fdbf86;\n",
       "  color: #000000;\n",
       "}\n",
       "#T_c8c41_row2_col0 {\n",
       "  background-color: #feecd9;\n",
       "  color: #000000;\n",
       "}\n",
       "#T_c8c41_row3_col0, #T_c8c41_row4_col0 {\n",
       "  background-color: #fff3e6;\n",
       "  color: #000000;\n",
       "}\n",
       "#T_c8c41_row5_col0 {\n",
       "  background-color: #fff4e8;\n",
       "  color: #000000;\n",
       "}\n",
       "#T_c8c41_row6_col0, #T_c8c41_row7_col0, #T_c8c41_row8_col0, #T_c8c41_row9_col0, #T_c8c41_row10_col0, #T_c8c41_row11_col0 {\n",
       "  background-color: #fff5eb;\n",
       "  color: #000000;\n",
       "}\n",
       "</style>\n",
       "<table id=\"T_c8c41\">\n",
       "  <thead>\n",
       "    <tr>\n",
       "      <th class=\"blank level0\" >&nbsp;</th>\n",
       "      <th id=\"T_c8c41_level0_col0\" class=\"col_heading level0 col0\" >std</th>\n",
       "    </tr>\n",
       "  </thead>\n",
       "  <tbody>\n",
       "    <tr>\n",
       "      <th id=\"T_c8c41_level0_row0\" class=\"row_heading level0 row0\" >total_sulfur_dioxide</th>\n",
       "      <td id=\"T_c8c41_row0_col0\" class=\"data row0 col0\" >56.774223</td>\n",
       "    </tr>\n",
       "    <tr>\n",
       "      <th id=\"T_c8c41_level0_row1\" class=\"row_heading level0 row1\" >free_sulfur_dioxide</th>\n",
       "      <td id=\"T_c8c41_row1_col0\" class=\"data row1 col0\" >17.805045</td>\n",
       "    </tr>\n",
       "    <tr>\n",
       "      <th id=\"T_c8c41_level0_row2\" class=\"row_heading level0 row2\" >residual_sugar</th>\n",
       "      <td id=\"T_c8c41_row2_col0\" class=\"data row2 col0\" >4.500180</td>\n",
       "    </tr>\n",
       "    <tr>\n",
       "      <th id=\"T_c8c41_level0_row3\" class=\"row_heading level0 row3\" >fixed_acidity</th>\n",
       "      <td id=\"T_c8c41_row3_col0\" class=\"data row3 col0\" >1.319671</td>\n",
       "    </tr>\n",
       "    <tr>\n",
       "      <th id=\"T_c8c41_level0_row4\" class=\"row_heading level0 row4\" >alcohol</th>\n",
       "      <td id=\"T_c8c41_row4_col0\" class=\"data row4 col0\" >1.185933</td>\n",
       "    </tr>\n",
       "    <tr>\n",
       "      <th id=\"T_c8c41_level0_row5\" class=\"row_heading level0 row5\" >quality</th>\n",
       "      <td id=\"T_c8c41_row5_col0\" class=\"data row5 col0\" >0.879772</td>\n",
       "    </tr>\n",
       "    <tr>\n",
       "      <th id=\"T_c8c41_level0_row6\" class=\"row_heading level0 row6\" >volatile_acidity</th>\n",
       "      <td id=\"T_c8c41_row6_col0\" class=\"data row6 col0\" >0.168248</td>\n",
       "    </tr>\n",
       "    <tr>\n",
       "      <th id=\"T_c8c41_level0_row7\" class=\"row_heading level0 row7\" >ph</th>\n",
       "      <td id=\"T_c8c41_row7_col0\" class=\"data row7 col0\" >0.160379</td>\n",
       "    </tr>\n",
       "    <tr>\n",
       "      <th id=\"T_c8c41_level0_row8\" class=\"row_heading level0 row8\" >sulphates</th>\n",
       "      <td id=\"T_c8c41_row8_col0\" class=\"data row8 col0\" >0.149743</td>\n",
       "    </tr>\n",
       "    <tr>\n",
       "      <th id=\"T_c8c41_level0_row9\" class=\"row_heading level0 row9\" >citric_acid</th>\n",
       "      <td id=\"T_c8c41_row9_col0\" class=\"data row9 col0\" >0.147157</td>\n",
       "    </tr>\n",
       "    <tr>\n",
       "      <th id=\"T_c8c41_level0_row10\" class=\"row_heading level0 row10\" >chlorides</th>\n",
       "      <td id=\"T_c8c41_row10_col0\" class=\"data row10 col0\" >0.036863</td>\n",
       "    </tr>\n",
       "    <tr>\n",
       "      <th id=\"T_c8c41_level0_row11\" class=\"row_heading level0 row11\" >density</th>\n",
       "      <td id=\"T_c8c41_row11_col0\" class=\"data row11 col0\" >0.002966</td>\n",
       "    </tr>\n",
       "  </tbody>\n",
       "</table>\n"
      ],
      "text/plain": [
       "<pandas.io.formats.style.Styler at 0x1d83608b4d0>"
      ]
     },
     "metadata": {},
     "output_type": "display_data"
    },
    {
     "data": {
      "text/markdown": [
       "**Most variable:** total_sulfur_dioxide (std=56.77)\n",
       "\n",
       "**Least variable:** density (std=0.0030)"
      ],
      "text/plain": [
       "<IPython.core.display.Markdown object>"
      ]
     },
     "metadata": {},
     "output_type": "display_data"
    }
   ],
   "source": [
    "variation = summary_stats['std'].sort_values(ascending=False)\n",
    "display(variation.to_frame('std').style.background_gradient(axis=0, cmap='Oranges'))\n",
    "\n",
    "display(Markdown(\n",
    "    f\"**Most variable:** {variation.index[0]} (std={variation.iloc[0]:.2f})\\n\\n\"\n",
    "    f\"**Least variable:** {variation.index[-1]} (std={variation.iloc[-1]:.4f})\"\n",
    "))\n"
   ]
  },
  {
   "cell_type": "markdown",
   "id": "89895941",
   "metadata": {},
   "source": [
    "## Question 3: Are there notable differences in chemical properties between red and white wines?\n"
   ]
  },
  {
   "cell_type": "code",
   "execution_count": 16,
   "id": "750ac459",
   "metadata": {},
   "outputs": [
    {
     "data": {
      "text/html": [
       "<style type=\"text/css\">\n",
       "#T_b47bb_row0_col0, #T_b47bb_row0_col1, #T_b47bb_row0_col2, #T_b47bb_row0_col3, #T_b47bb_row0_col4, #T_b47bb_row0_col5, #T_b47bb_row0_col7, #T_b47bb_row0_col12, #T_b47bb_row0_col13, #T_b47bb_row0_col14, #T_b47bb_row0_col21, #T_b47bb_row0_col23, #T_b47bb_row0_col24, #T_b47bb_row0_col25, #T_b47bb_row0_col26, #T_b47bb_row0_col27, #T_b47bb_row0_col28, #T_b47bb_row0_col29, #T_b47bb_row1_col6, #T_b47bb_row1_col8, #T_b47bb_row1_col9, #T_b47bb_row1_col10, #T_b47bb_row1_col11, #T_b47bb_row1_col15, #T_b47bb_row1_col16, #T_b47bb_row1_col17, #T_b47bb_row1_col18, #T_b47bb_row1_col19, #T_b47bb_row1_col20, #T_b47bb_row1_col22, #T_b47bb_row1_col30, #T_b47bb_row1_col31, #T_b47bb_row1_col32, #T_b47bb_row1_col33, #T_b47bb_row1_col34 {\n",
       "  background-color: #023858;\n",
       "  color: #f1f1f1;\n",
       "}\n",
       "#T_b47bb_row0_col6, #T_b47bb_row0_col8, #T_b47bb_row0_col9, #T_b47bb_row0_col10, #T_b47bb_row0_col11, #T_b47bb_row0_col15, #T_b47bb_row0_col16, #T_b47bb_row0_col17, #T_b47bb_row0_col18, #T_b47bb_row0_col19, #T_b47bb_row0_col20, #T_b47bb_row0_col22, #T_b47bb_row0_col30, #T_b47bb_row0_col31, #T_b47bb_row0_col32, #T_b47bb_row0_col33, #T_b47bb_row0_col34, #T_b47bb_row0_col35, #T_b47bb_row1_col0, #T_b47bb_row1_col1, #T_b47bb_row1_col2, #T_b47bb_row1_col3, #T_b47bb_row1_col4, #T_b47bb_row1_col5, #T_b47bb_row1_col7, #T_b47bb_row1_col12, #T_b47bb_row1_col13, #T_b47bb_row1_col14, #T_b47bb_row1_col21, #T_b47bb_row1_col23, #T_b47bb_row1_col24, #T_b47bb_row1_col25, #T_b47bb_row1_col26, #T_b47bb_row1_col27, #T_b47bb_row1_col28, #T_b47bb_row1_col29, #T_b47bb_row1_col35 {\n",
       "  background-color: #fff7fb;\n",
       "  color: #000000;\n",
       "}\n",
       "</style>\n",
       "<table id=\"T_b47bb\">\n",
       "  <thead>\n",
       "    <tr>\n",
       "      <th class=\"blank level0\" >&nbsp;</th>\n",
       "      <th id=\"T_b47bb_level0_col0\" class=\"col_heading level0 col0\" colspan=\"3\">fixed_acidity</th>\n",
       "      <th id=\"T_b47bb_level0_col3\" class=\"col_heading level0 col3\" colspan=\"3\">volatile_acidity</th>\n",
       "      <th id=\"T_b47bb_level0_col6\" class=\"col_heading level0 col6\" colspan=\"3\">citric_acid</th>\n",
       "      <th id=\"T_b47bb_level0_col9\" class=\"col_heading level0 col9\" colspan=\"3\">residual_sugar</th>\n",
       "      <th id=\"T_b47bb_level0_col12\" class=\"col_heading level0 col12\" colspan=\"3\">chlorides</th>\n",
       "      <th id=\"T_b47bb_level0_col15\" class=\"col_heading level0 col15\" colspan=\"3\">free_sulfur_dioxide</th>\n",
       "      <th id=\"T_b47bb_level0_col18\" class=\"col_heading level0 col18\" colspan=\"3\">total_sulfur_dioxide</th>\n",
       "      <th id=\"T_b47bb_level0_col21\" class=\"col_heading level0 col21\" colspan=\"3\">density</th>\n",
       "      <th id=\"T_b47bb_level0_col24\" class=\"col_heading level0 col24\" colspan=\"3\">ph</th>\n",
       "      <th id=\"T_b47bb_level0_col27\" class=\"col_heading level0 col27\" colspan=\"3\">sulphates</th>\n",
       "      <th id=\"T_b47bb_level0_col30\" class=\"col_heading level0 col30\" colspan=\"3\">alcohol</th>\n",
       "      <th id=\"T_b47bb_level0_col33\" class=\"col_heading level0 col33\" colspan=\"3\">quality</th>\n",
       "    </tr>\n",
       "    <tr>\n",
       "      <th class=\"blank level1\" >&nbsp;</th>\n",
       "      <th id=\"T_b47bb_level1_col0\" class=\"col_heading level1 col0\" >mean</th>\n",
       "      <th id=\"T_b47bb_level1_col1\" class=\"col_heading level1 col1\" >std</th>\n",
       "      <th id=\"T_b47bb_level1_col2\" class=\"col_heading level1 col2\" >median</th>\n",
       "      <th id=\"T_b47bb_level1_col3\" class=\"col_heading level1 col3\" >mean</th>\n",
       "      <th id=\"T_b47bb_level1_col4\" class=\"col_heading level1 col4\" >std</th>\n",
       "      <th id=\"T_b47bb_level1_col5\" class=\"col_heading level1 col5\" >median</th>\n",
       "      <th id=\"T_b47bb_level1_col6\" class=\"col_heading level1 col6\" >mean</th>\n",
       "      <th id=\"T_b47bb_level1_col7\" class=\"col_heading level1 col7\" >std</th>\n",
       "      <th id=\"T_b47bb_level1_col8\" class=\"col_heading level1 col8\" >median</th>\n",
       "      <th id=\"T_b47bb_level1_col9\" class=\"col_heading level1 col9\" >mean</th>\n",
       "      <th id=\"T_b47bb_level1_col10\" class=\"col_heading level1 col10\" >std</th>\n",
       "      <th id=\"T_b47bb_level1_col11\" class=\"col_heading level1 col11\" >median</th>\n",
       "      <th id=\"T_b47bb_level1_col12\" class=\"col_heading level1 col12\" >mean</th>\n",
       "      <th id=\"T_b47bb_level1_col13\" class=\"col_heading level1 col13\" >std</th>\n",
       "      <th id=\"T_b47bb_level1_col14\" class=\"col_heading level1 col14\" >median</th>\n",
       "      <th id=\"T_b47bb_level1_col15\" class=\"col_heading level1 col15\" >mean</th>\n",
       "      <th id=\"T_b47bb_level1_col16\" class=\"col_heading level1 col16\" >std</th>\n",
       "      <th id=\"T_b47bb_level1_col17\" class=\"col_heading level1 col17\" >median</th>\n",
       "      <th id=\"T_b47bb_level1_col18\" class=\"col_heading level1 col18\" >mean</th>\n",
       "      <th id=\"T_b47bb_level1_col19\" class=\"col_heading level1 col19\" >std</th>\n",
       "      <th id=\"T_b47bb_level1_col20\" class=\"col_heading level1 col20\" >median</th>\n",
       "      <th id=\"T_b47bb_level1_col21\" class=\"col_heading level1 col21\" >mean</th>\n",
       "      <th id=\"T_b47bb_level1_col22\" class=\"col_heading level1 col22\" >std</th>\n",
       "      <th id=\"T_b47bb_level1_col23\" class=\"col_heading level1 col23\" >median</th>\n",
       "      <th id=\"T_b47bb_level1_col24\" class=\"col_heading level1 col24\" >mean</th>\n",
       "      <th id=\"T_b47bb_level1_col25\" class=\"col_heading level1 col25\" >std</th>\n",
       "      <th id=\"T_b47bb_level1_col26\" class=\"col_heading level1 col26\" >median</th>\n",
       "      <th id=\"T_b47bb_level1_col27\" class=\"col_heading level1 col27\" >mean</th>\n",
       "      <th id=\"T_b47bb_level1_col28\" class=\"col_heading level1 col28\" >std</th>\n",
       "      <th id=\"T_b47bb_level1_col29\" class=\"col_heading level1 col29\" >median</th>\n",
       "      <th id=\"T_b47bb_level1_col30\" class=\"col_heading level1 col30\" >mean</th>\n",
       "      <th id=\"T_b47bb_level1_col31\" class=\"col_heading level1 col31\" >std</th>\n",
       "      <th id=\"T_b47bb_level1_col32\" class=\"col_heading level1 col32\" >median</th>\n",
       "      <th id=\"T_b47bb_level1_col33\" class=\"col_heading level1 col33\" >mean</th>\n",
       "      <th id=\"T_b47bb_level1_col34\" class=\"col_heading level1 col34\" >std</th>\n",
       "      <th id=\"T_b47bb_level1_col35\" class=\"col_heading level1 col35\" >median</th>\n",
       "    </tr>\n",
       "    <tr>\n",
       "      <th class=\"index_name level0\" >type</th>\n",
       "      <th class=\"blank col0\" >&nbsp;</th>\n",
       "      <th class=\"blank col1\" >&nbsp;</th>\n",
       "      <th class=\"blank col2\" >&nbsp;</th>\n",
       "      <th class=\"blank col3\" >&nbsp;</th>\n",
       "      <th class=\"blank col4\" >&nbsp;</th>\n",
       "      <th class=\"blank col5\" >&nbsp;</th>\n",
       "      <th class=\"blank col6\" >&nbsp;</th>\n",
       "      <th class=\"blank col7\" >&nbsp;</th>\n",
       "      <th class=\"blank col8\" >&nbsp;</th>\n",
       "      <th class=\"blank col9\" >&nbsp;</th>\n",
       "      <th class=\"blank col10\" >&nbsp;</th>\n",
       "      <th class=\"blank col11\" >&nbsp;</th>\n",
       "      <th class=\"blank col12\" >&nbsp;</th>\n",
       "      <th class=\"blank col13\" >&nbsp;</th>\n",
       "      <th class=\"blank col14\" >&nbsp;</th>\n",
       "      <th class=\"blank col15\" >&nbsp;</th>\n",
       "      <th class=\"blank col16\" >&nbsp;</th>\n",
       "      <th class=\"blank col17\" >&nbsp;</th>\n",
       "      <th class=\"blank col18\" >&nbsp;</th>\n",
       "      <th class=\"blank col19\" >&nbsp;</th>\n",
       "      <th class=\"blank col20\" >&nbsp;</th>\n",
       "      <th class=\"blank col21\" >&nbsp;</th>\n",
       "      <th class=\"blank col22\" >&nbsp;</th>\n",
       "      <th class=\"blank col23\" >&nbsp;</th>\n",
       "      <th class=\"blank col24\" >&nbsp;</th>\n",
       "      <th class=\"blank col25\" >&nbsp;</th>\n",
       "      <th class=\"blank col26\" >&nbsp;</th>\n",
       "      <th class=\"blank col27\" >&nbsp;</th>\n",
       "      <th class=\"blank col28\" >&nbsp;</th>\n",
       "      <th class=\"blank col29\" >&nbsp;</th>\n",
       "      <th class=\"blank col30\" >&nbsp;</th>\n",
       "      <th class=\"blank col31\" >&nbsp;</th>\n",
       "      <th class=\"blank col32\" >&nbsp;</th>\n",
       "      <th class=\"blank col33\" >&nbsp;</th>\n",
       "      <th class=\"blank col34\" >&nbsp;</th>\n",
       "      <th class=\"blank col35\" >&nbsp;</th>\n",
       "    </tr>\n",
       "  </thead>\n",
       "  <tbody>\n",
       "    <tr>\n",
       "      <th id=\"T_b47bb_level0_row0\" class=\"row_heading level0 row0\" >red</th>\n",
       "      <td id=\"T_b47bb_row0_col0\" class=\"data row0 col0\" >8.310596</td>\n",
       "      <td id=\"T_b47bb_row0_col1\" class=\"data row0 col1\" >1.736990</td>\n",
       "      <td id=\"T_b47bb_row0_col2\" class=\"data row0 col2\" >7.900000</td>\n",
       "      <td id=\"T_b47bb_row0_col3\" class=\"data row0 col3\" >0.529478</td>\n",
       "      <td id=\"T_b47bb_row0_col4\" class=\"data row0 col4\" >0.183031</td>\n",
       "      <td id=\"T_b47bb_row0_col5\" class=\"data row0 col5\" >0.520000</td>\n",
       "      <td id=\"T_b47bb_row0_col6\" class=\"data row0 col6\" >0.272333</td>\n",
       "      <td id=\"T_b47bb_row0_col7\" class=\"data row0 col7\" >0.195537</td>\n",
       "      <td id=\"T_b47bb_row0_col8\" class=\"data row0 col8\" >0.260000</td>\n",
       "      <td id=\"T_b47bb_row0_col9\" class=\"data row0 col9\" >2.523400</td>\n",
       "      <td id=\"T_b47bb_row0_col10\" class=\"data row0 col10\" >1.352314</td>\n",
       "      <td id=\"T_b47bb_row0_col11\" class=\"data row0 col11\" >2.200000</td>\n",
       "      <td id=\"T_b47bb_row0_col12\" class=\"data row0 col12\" >0.088124</td>\n",
       "      <td id=\"T_b47bb_row0_col13\" class=\"data row0 col13\" >0.049377</td>\n",
       "      <td id=\"T_b47bb_row0_col14\" class=\"data row0 col14\" >0.079000</td>\n",
       "      <td id=\"T_b47bb_row0_col15\" class=\"data row0 col15\" >15.893304</td>\n",
       "      <td id=\"T_b47bb_row0_col16\" class=\"data row0 col16\" >10.447270</td>\n",
       "      <td id=\"T_b47bb_row0_col17\" class=\"data row0 col17\" >14.000000</td>\n",
       "      <td id=\"T_b47bb_row0_col18\" class=\"data row0 col18\" >46.825975</td>\n",
       "      <td id=\"T_b47bb_row0_col19\" class=\"data row0 col19\" >33.408946</td>\n",
       "      <td id=\"T_b47bb_row0_col20\" class=\"data row0 col20\" >38.000000</td>\n",
       "      <td id=\"T_b47bb_row0_col21\" class=\"data row0 col21\" >0.996709</td>\n",
       "      <td id=\"T_b47bb_row0_col22\" class=\"data row0 col22\" >0.001869</td>\n",
       "      <td id=\"T_b47bb_row0_col23\" class=\"data row0 col23\" >0.996700</td>\n",
       "      <td id=\"T_b47bb_row0_col24\" class=\"data row0 col24\" >3.309787</td>\n",
       "      <td id=\"T_b47bb_row0_col25\" class=\"data row0 col25\" >0.155036</td>\n",
       "      <td id=\"T_b47bb_row0_col26\" class=\"data row0 col26\" >3.310000</td>\n",
       "      <td id=\"T_b47bb_row0_col27\" class=\"data row0 col27\" >0.658705</td>\n",
       "      <td id=\"T_b47bb_row0_col28\" class=\"data row0 col28\" >0.170667</td>\n",
       "      <td id=\"T_b47bb_row0_col29\" class=\"data row0 col29\" >0.620000</td>\n",
       "      <td id=\"T_b47bb_row0_col30\" class=\"data row0 col30\" >10.432315</td>\n",
       "      <td id=\"T_b47bb_row0_col31\" class=\"data row0 col31\" >1.082065</td>\n",
       "      <td id=\"T_b47bb_row0_col32\" class=\"data row0 col32\" >10.200000</td>\n",
       "      <td id=\"T_b47bb_row0_col33\" class=\"data row0 col33\" >5.623252</td>\n",
       "      <td id=\"T_b47bb_row0_col34\" class=\"data row0 col34\" >0.823578</td>\n",
       "      <td id=\"T_b47bb_row0_col35\" class=\"data row0 col35\" >6.000000</td>\n",
       "    </tr>\n",
       "    <tr>\n",
       "      <th id=\"T_b47bb_level0_row1\" class=\"row_heading level0 row1\" >white</th>\n",
       "      <td id=\"T_b47bb_row1_col0\" class=\"data row1 col0\" >6.839346</td>\n",
       "      <td id=\"T_b47bb_row1_col1\" class=\"data row1 col1\" >0.866860</td>\n",
       "      <td id=\"T_b47bb_row1_col2\" class=\"data row1 col2\" >6.800000</td>\n",
       "      <td id=\"T_b47bb_row1_col3\" class=\"data row1 col3\" >0.280538</td>\n",
       "      <td id=\"T_b47bb_row1_col4\" class=\"data row1 col4\" >0.103437</td>\n",
       "      <td id=\"T_b47bb_row1_col5\" class=\"data row1 col5\" >0.260000</td>\n",
       "      <td id=\"T_b47bb_row1_col6\" class=\"data row1 col6\" >0.334332</td>\n",
       "      <td id=\"T_b47bb_row1_col7\" class=\"data row1 col7\" >0.122446</td>\n",
       "      <td id=\"T_b47bb_row1_col8\" class=\"data row1 col8\" >0.320000</td>\n",
       "      <td id=\"T_b47bb_row1_col9\" class=\"data row1 col9\" >5.914819</td>\n",
       "      <td id=\"T_b47bb_row1_col10\" class=\"data row1 col10\" >4.861646</td>\n",
       "      <td id=\"T_b47bb_row1_col11\" class=\"data row1 col11\" >4.700000</td>\n",
       "      <td id=\"T_b47bb_row1_col12\" class=\"data row1 col12\" >0.045905</td>\n",
       "      <td id=\"T_b47bb_row1_col13\" class=\"data row1 col13\" >0.023103</td>\n",
       "      <td id=\"T_b47bb_row1_col14\" class=\"data row1 col14\" >0.042000</td>\n",
       "      <td id=\"T_b47bb_row1_col15\" class=\"data row1 col15\" >34.889169</td>\n",
       "      <td id=\"T_b47bb_row1_col16\" class=\"data row1 col16\" >17.210021</td>\n",
       "      <td id=\"T_b47bb_row1_col17\" class=\"data row1 col17\" >33.000000</td>\n",
       "      <td id=\"T_b47bb_row1_col18\" class=\"data row1 col18\" >137.193512</td>\n",
       "      <td id=\"T_b47bb_row1_col19\" class=\"data row1 col19\" >43.129065</td>\n",
       "      <td id=\"T_b47bb_row1_col20\" class=\"data row1 col20\" >133.000000</td>\n",
       "      <td id=\"T_b47bb_row1_col21\" class=\"data row1 col21\" >0.993790</td>\n",
       "      <td id=\"T_b47bb_row1_col22\" class=\"data row1 col22\" >0.002905</td>\n",
       "      <td id=\"T_b47bb_row1_col23\" class=\"data row1 col23\" >0.993500</td>\n",
       "      <td id=\"T_b47bb_row1_col24\" class=\"data row1 col24\" >3.195458</td>\n",
       "      <td id=\"T_b47bb_row1_col25\" class=\"data row1 col25\" >0.151546</td>\n",
       "      <td id=\"T_b47bb_row1_col26\" class=\"data row1 col26\" >3.180000</td>\n",
       "      <td id=\"T_b47bb_row1_col27\" class=\"data row1 col27\" >0.490351</td>\n",
       "      <td id=\"T_b47bb_row1_col28\" class=\"data row1 col28\" >0.113523</td>\n",
       "      <td id=\"T_b47bb_row1_col29\" class=\"data row1 col29\" >0.480000</td>\n",
       "      <td id=\"T_b47bb_row1_col30\" class=\"data row1 col30\" >10.589358</td>\n",
       "      <td id=\"T_b47bb_row1_col31\" class=\"data row1 col31\" >1.217076</td>\n",
       "      <td id=\"T_b47bb_row1_col32\" class=\"data row1 col32\" >10.400000</td>\n",
       "      <td id=\"T_b47bb_row1_col33\" class=\"data row1 col33\" >5.854835</td>\n",
       "      <td id=\"T_b47bb_row1_col34\" class=\"data row1 col34\" >0.890683</td>\n",
       "      <td id=\"T_b47bb_row1_col35\" class=\"data row1 col35\" >6.000000</td>\n",
       "    </tr>\n",
       "  </tbody>\n",
       "</table>\n"
      ],
      "text/plain": [
       "<pandas.io.formats.style.Styler at 0x1d87f5a2c90>"
      ]
     },
     "metadata": {},
     "output_type": "display_data"
    },
    {
     "data": {
      "image/png": "[encoded data removed]",
      "text/plain": [
       "<Figure size 1500x400 with 3 Axes>"
      ]
     },
     "metadata": {},
     "output_type": "display_data"
    },
    {
     "data": {
      "text/markdown": [
       "**Key findings:**\n",
       "\n",
       "- **White wines** have higher average residual sugar and lower alcohol than **red wines**.\n",
       "- **Red wines** tend to have a slightly lower pH (more acidic) than whites."
      ],
      "text/plain": [
       "<IPython.core.display.Markdown object>"
      ]
     },
     "metadata": {},
     "output_type": "display_data"
    }
   ],
   "source": [
    "grouped = df.groupby('type').agg(['mean', 'std', 'median'])\n",
    "display(grouped.style.background_gradient(axis=0, cmap='PuBu'))\n",
    "\n",
    "# Visualize a few key differences\n",
    "fig, axes = plt.subplots(1, 3, figsize=(15,4))\n",
    "sns.boxplot(x='type', y='alcohol', data=df, ax=axes[0])\n",
    "axes[0].set_title(\"Alcohol by Wine Type\")\n",
    "sns.boxplot(x='type', y='ph', data=df, ax=axes[1])\n",
    "axes[1].set_title(\"pH by Wine Type\")\n",
    "sns.boxplot(x='type', y='residual_sugar', data=df, ax=axes[2])\n",
    "axes[2].set_title(\"Residual Sugar by Wine Type\")\n",
    "plt.tight_layout()\n",
    "plt.show()\n",
    "\n",
    "display(Markdown(\n",
    "    \"**Key findings:**\\n\\n\"\n",
    "    \"- **White wines** have higher average residual sugar and lower alcohol than **red wines**.\\n\"\n",
    "    \"- **Red wines** tend to have a slightly lower pH (more acidic) than whites.\"\n",
    "))\n"
   ]
  },
  {
   "cell_type": "markdown",
   "id": "22b5819e",
   "metadata": {},
   "source": [
    "## Question 4: What are the most common values (modes) for key properties like pH and alcohol?\n"
   ]
  },
  {
   "cell_type": "code",
   "execution_count": 17,
   "id": "75b02147",
   "metadata": {},
   "outputs": [
    {
     "data": {
      "text/markdown": [
       "**Most common pH:** 3.16\n",
       "\n",
       "**Most common alcohol:** 9.5%"
      ],
      "text/plain": [
       "<IPython.core.display.Markdown object>"
      ]
     },
     "metadata": {},
     "output_type": "display_data"
    },
    {
     "data": {
      "image/png": "[encoded data removed]",
      "text/plain": [
       "<Figure size 1200x400 with 2 Axes>"
      ]
     },
     "metadata": {},
     "output_type": "display_data"
    }
   ],
   "source": [
    "ph_mode = df['ph'].mode()[0]\n",
    "alcohol_mode = df['alcohol'].mode()[0]\n",
    "display(Markdown(\n",
    "    f\"**Most common pH:** {ph_mode}\\n\\n\"\n",
    "    f\"**Most common alcohol:** {alcohol_mode}%\"\n",
    "))\n",
    "\n",
    "# Visualize distributions\n",
    "fig, axes = plt.subplots(1, 2, figsize=(12,4))\n",
    "sns.histplot(df['ph'], bins=30, kde=True, ax=axes[0], color='skyblue')\n",
    "axes[0].axvline(ph_mode, color='red', linestyle='--', label='Mode')\n",
    "axes[0].set_title('pH Distribution')\n",
    "axes[0].legend()\n",
    "sns.histplot(df['alcohol'], bins=30, kde=True, ax=axes[1], color='orange')\n",
    "axes[1].axvline(alcohol_mode, color='red', linestyle='--', label='Mode')\n",
    "axes[1].set_title('Alcohol Distribution')\n",
    "axes[1].legend()\n",
    "plt.tight_layout()\n",
    "plt.show()\n"
   ]
  },
  {
   "cell_type": "markdown",
   "id": "11b35c32",
   "metadata": {},
   "source": [
    "## Question 5: How is wine quality distributed in the dataset (e.g., what is the most common quality score), and does it differ by wine type?\n"
   ]
  },
  {
   "cell_type": "code",
   "execution_count": 18,
   "id": "26271f0d",
   "metadata": {},
   "outputs": [
    {
     "data": {
      "text/markdown": [
       "**Most common (mode) quality:** 6\n",
       "\n",
       "**Median quality:** 6.0"
      ],
      "text/plain": [
       "<IPython.core.display.Markdown object>"
      ]
     },
     "metadata": {},
     "output_type": "display_data"
    },
    {
     "name": "stderr",
     "output_type": "stream",
     "text": [
      "C:\\Users\\logan\\AppData\\Local\\Temp\\ipykernel_18884\\3731944272.py:12: FutureWarning: \n",
      "\n",
      "Passing `palette` without assigning `hue` is deprecated and will be removed in v0.14.0. Assign the `x` variable to `hue` and set `legend=False` for the same effect.\n",
      "\n",
      "  sns.countplot(x='quality', data=df, palette='viridis')\n"
     ]
    },
    {
     "data": {
      "image/png": "[encoded data removed]",
      "text/plain": [
       "<Figure size 800x400 with 1 Axes>"
      ]
     },
     "metadata": {},
     "output_type": "display_data"
    },
    {
     "data": {
      "image/png": "[encoded data removed]",
      "text/plain": [
       "<Figure size 800x400 with 1 Axes>"
      ]
     },
     "metadata": {},
     "output_type": "display_data"
    },
    {
     "data": {
      "text/markdown": [
       "**Key findings:**\n",
       "\n",
       "- Most wines are rated **6** or **5**.\n",
       "- Quality distributions are similar, but white wines have a slightly higher median quality."
      ],
      "text/plain": [
       "<IPython.core.display.Markdown object>"
      ]
     },
     "metadata": {},
     "output_type": "display_data"
    }
   ],
   "source": [
    "# Overall\n",
    "quality_counts = df['quality'].value_counts().sort_index()\n",
    "quality_mode = df['quality'].mode()[0]\n",
    "quality_median = df['quality'].median()\n",
    "display(Markdown(\n",
    "    f\"**Most common (mode) quality:** {quality_mode}\\n\\n\"\n",
    "    f\"**Median quality:** {quality_median}\"\n",
    "))\n",
    "\n",
    "# Plot overall quality distribution\n",
    "plt.figure(figsize=(8,4))\n",
    "sns.countplot(x='quality', data=df, palette='viridis')\n",
    "plt.title('Wine Quality Distribution (All Wines)')\n",
    "plt.show()\n",
    "\n",
    "# By type\n",
    "plt.figure(figsize=(8,4))\n",
    "sns.countplot(x='quality', hue='type', data=df, palette='Set1')\n",
    "plt.title('Wine Quality Distribution by Type')\n",
    "plt.show()\n",
    "\n",
    "display(Markdown(\n",
    "    \"**Key findings:**\\n\\n\"\n",
    "    \"- Most wines are rated **6** or **5**.\\n\"\n",
    "    \"- Quality distributions are similar, but white wines have a slightly higher median quality.\"\n",
    "))\n"
   ]
  },
  {
   "cell_type": "markdown",
   "id": "6ffee7a2",
   "metadata": {},
   "source": [
    "# Summary\n",
    "\n",
    "- The dataset provides a variety of chemical measurements for both red and white wines.\n",
    "- Sulfur dioxide and acidity show the most variation among wines.\n",
    "- There are clear chemical differences between red and white wines.\n",
    "- Most wines have average quality scores, with typical pH and alcohol values.\n",
    "- The distribution of quality scores can be compared between red and white wines.\n",
    "\n"
   ]
  }
 ],
 "metadata": {
  "kernelspec": {
   "display_name": "Python 3",
   "language": "python",
   "name": "python3"
  },
  "language_info": {
   "codemirror_mode": {
    "name": "ipython",
    "version": 3
   },
   "file_extension": ".py",
   "mimetype": "text/x-python",
   "name": "python",
   "nbconvert_exporter": "python",
   "pygments_lexer": "ipython3",
   "version": "3.11.9"
  }
 },
 "nbformat": 4,
 "nbformat_minor": 5
}
