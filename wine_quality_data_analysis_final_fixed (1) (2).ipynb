{
 "cells": [
  {
   "cell_type": "markdown",
   "id": "2210b004",
   "metadata": {},
   "source": [
    "# Final Project: Wine Quality Data Cleaning\n",
    "\n",
    "**Author:** Logan Ash\n",
    "**Date:** 2025-05-07\n",
    "\n",
    "This notebook focuses on data cleaning steps applied to the Wine Quality dataset. We will document each cleaning action and provide rationale."
   ]
  },
  {
   "cell_type": "markdown",
   "id": "735b78bb",
   "metadata": {},
   "source": [
    "## 1. Dependencies Installation"
   ]
  },
  {
   "cell_type": "code",
   "execution_count": 1,
   "id": "53b70e21",
   "metadata": {},
   "outputs": [
    {
     "name": "stdout",
     "output_type": "stream",
     "text": [
      "Note: you may need to restart the kernel to use updated packages.\n"
     ]
    },
    {
     "name": "stderr",
     "output_type": "stream",
     "text": [
      "\n",
      "[notice] A new release of pip is available: 24.3.1 -> 25.1.1\n",
      "[notice] To update, run: python.exe -m pip install --upgrade pip\n"
     ]
    }
   ],
   "source": [
    "%pip install scipy --quiet"
   ]
  },
  {
   "cell_type": "markdown",
   "id": "1f8c57f6",
   "metadata": {},
   "source": [
    "## 2. Imports and Data Loading\n",
    "Load the red and white wine quality datasets directly from the UCI repository."
   ]
  },
  {
   "cell_type": "code",
   "execution_count": 2,
   "id": "38ca46e7",
   "metadata": {},
   "outputs": [
    {
     "name": "stdout",
     "output_type": "stream",
     "text": [
      "<class 'pandas.core.frame.DataFrame'>\n",
      "RangeIndex: 6497 entries, 0 to 6496\n",
      "Data columns (total 13 columns):\n",
      " #   Column                Non-Null Count  Dtype  \n",
      "---  ------                --------------  -----  \n",
      " 0   fixed acidity         6497 non-null   float64\n",
      " 1   volatile acidity      6497 non-null   float64\n",
      " 2   citric acid           6497 non-null   float64\n",
      " 3   residual sugar        6497 non-null   float64\n",
      " 4   chlorides             6497 non-null   float64\n",
      " 5   free sulfur dioxide   6497 non-null   float64\n",
      " 6   total sulfur dioxide  6497 non-null   float64\n",
      " 7   density               6497 non-null   float64\n",
      " 8   pH                    6497 non-null   float64\n",
      " 9   sulphates             6497 non-null   float64\n",
      " 10  alcohol               6497 non-null   float64\n",
      " 11  quality               6497 non-null   int64  \n",
      " 12  type                  6497 non-null   object \n",
      "dtypes: float64(11), int64(1), object(1)\n",
      "memory usage: 660.0+ KB\n"
     ]
    }
   ],
   "source": [
    "import pandas as pd\n",
    "import numpy as np\n",
    "from scipy.stats import zscore\n",
    "\n",
    "# URLs for the datasets\n",
    "red_url = 'https://archive.ics.uci.edu/ml/machine-learning-databases/wine-quality/winequality-red.csv'\n",
    "white_url = 'https://archive.ics.uci.edu/ml/machine-learning-databases/wine-quality/winequality-white.csv'\n",
    "\n",
    "# Load the datasets\n",
    "red_df = pd.read_csv(red_url, sep=';')\n",
    "white_df = pd.read_csv(white_url, sep=';')\n",
    "\n",
    "# Tag and combine\n",
    "red_df['type'] = 'red'\n",
    "white_df['type'] = 'white'\n",
    "df = pd.concat([red_df, white_df], ignore_index=True)\n",
    "\n",
    "# Display basic info\n",
    "df.info()"
   ]
  },
  {
   "cell_type": "markdown",
   "id": "f77e0b6a",
   "metadata": {},
   "source": [
    "## 3. Initial Exploratory Analysis Findings\n",
    "From last week's EDA, we observed:\n",
    "- No missing values (`NaN`) in any column.\n",
    "- Column names contain spaces which can be inconvenient for coding.\n",
    "- Some numeric features exhibit skewness and potential outliers.\n",
    "\n",
    "Below we systematically address these points."
   ]
  },
  {
   "cell_type": "markdown",
   "id": "a341e51a",
   "metadata": {},
   "source": [
    "### 3.1 Check for Missing Values"
   ]
  },
  {
   "cell_type": "code",
   "execution_count": 3,
   "id": "9568ca38",
   "metadata": {},
   "outputs": [
    {
     "data": {
      "text/plain": [
       "fixed acidity           0\n",
       "volatile acidity        0\n",
       "citric acid             0\n",
       "residual sugar          0\n",
       "chlorides               0\n",
       "free sulfur dioxide     0\n",
       "total sulfur dioxide    0\n",
       "density                 0\n",
       "pH                      0\n",
       "sulphates               0\n",
       "alcohol                 0\n",
       "quality                 0\n",
       "type                    0\n",
       "dtype: int64"
      ]
     },
     "execution_count": 3,
     "metadata": {},
     "output_type": "execute_result"
    }
   ],
   "source": [
    "# Check for NaNs\n",
    "nan_counts = df.isna().sum()\n",
    "nan_counts"
   ]
  },
  {
   "cell_type": "markdown",
   "id": "8cb09672",
   "metadata": {},
   "source": [
    "**Conclusion:** No missing values found, so no imputation or deletion necessary."
   ]
  },
  {
   "cell_type": "markdown",
   "id": "96c034be",
   "metadata": {},
   "source": [
    "### 3.2 Rename Columns to Snake Case\n",
    "Replace spaces with underscores for easier reference."
   ]
  },
  {
   "cell_type": "code",
   "execution_count": 4,
   "id": "b5d7b8ee",
   "metadata": {},
   "outputs": [
    {
     "data": {
      "text/plain": [
       "Index(['fixed_acidity', 'volatile_acidity', 'citric_acid', 'residual_sugar',\n",
       "       'chlorides', 'free_sulfur_dioxide', 'total_sulfur_dioxide', 'density',\n",
       "       'ph', 'sulphates', 'alcohol', 'quality', 'type'],\n",
       "      dtype='object')"
      ]
     },
     "execution_count": 4,
     "metadata": {},
     "output_type": "execute_result"
    }
   ],
   "source": [
    "# Rename columns\n",
    "df_clean = df.copy()\n",
    "df_clean.columns = [col.strip().lower().replace(' ', '_') for col in df_clean.columns]\n",
    "df_clean.columns"
   ]
  },
  {
   "cell_type": "markdown",
   "id": "5329e79d",
   "metadata": {},
   "source": [
    "### 3.3 Detect and Remove Outliers\n",
    "Compute z-scores for numeric features and remove rows where any feature has |z| > 3."
   ]
  },
  {
   "cell_type": "code",
   "execution_count": 5,
   "id": "14a69b2a",
   "metadata": {},
   "outputs": [
    {
     "name": "stdout",
     "output_type": "stream",
     "text": [
      "Outliers detected: 508 rows out of 6497 total\n"
     ]
    }
   ],
   "source": [
    "# Identify numeric columns\n",
    "numeric_cols = df_clean.select_dtypes(include=np.number).columns\n",
    "\n",
    "# Compute z-scores\n",
    "df_z = df_clean[numeric_cols].apply(zscore)\n",
    "\n",
    "# Find rows with any outlier\n",
    "outlier_mask = (df_z.abs() > 3).any(axis=1)\n",
    "print(f\"Outliers detected: {outlier_mask.sum()} rows out of {len(df_clean)} total\")"
   ]
  },
  {
   "cell_type": "code",
   "execution_count": 6,
   "id": "a796c07f",
   "metadata": {},
   "outputs": [
    {
     "name": "stdout",
     "output_type": "stream",
     "text": [
      "Data shape after outlier removal: (5989, 13)\n"
     ]
    }
   ],
   "source": [
    "# Remove outliers\n",
    "df_clean_no_outliers = df_clean[~outlier_mask].reset_index(drop=True)\n",
    "print(f\"Data shape after outlier removal: {df_clean_no_outliers.shape}\")"
   ]
  },
  {
   "cell_type": "markdown",
   "id": "e80b1025",
   "metadata": {},
   "source": [
    "## 4. Final Cleaned Dataset\n",
    "The dataset has been standardized in column naming and filtered to remove extreme outliers."
   ]
  },
  {
   "cell_type": "code",
   "execution_count": 7,
   "id": "910328a7",
   "metadata": {},
   "outputs": [
    {
     "data": {
      "text/html": [
       "<div>\n",
       "<style scoped>\n",
       "    .dataframe tbody tr th:only-of-type {\n",
       "        vertical-align: middle;\n",
       "    }\n",
       "\n",
       "    .dataframe tbody tr th {\n",
       "        vertical-align: top;\n",
       "    }\n",
       "\n",
       "    .dataframe thead th {\n",
       "        text-align: right;\n",
       "    }\n",
       "</style>\n",
       "<table border=\"1\" class=\"dataframe\">\n",
       "  <thead>\n",
       "    <tr style=\"text-align: right;\">\n",
       "      <th></th>\n",
       "      <th>fixed_acidity</th>\n",
       "      <th>volatile_acidity</th>\n",
       "      <th>citric_acid</th>\n",
       "      <th>residual_sugar</th>\n",
       "      <th>chlorides</th>\n",
       "      <th>free_sulfur_dioxide</th>\n",
       "      <th>total_sulfur_dioxide</th>\n",
       "      <th>density</th>\n",
       "      <th>ph</th>\n",
       "      <th>sulphates</th>\n",
       "      <th>alcohol</th>\n",
       "      <th>quality</th>\n",
       "      <th>type</th>\n",
       "    </tr>\n",
       "  </thead>\n",
       "  <tbody>\n",
       "    <tr>\n",
       "      <th>0</th>\n",
       "      <td>7.4</td>\n",
       "      <td>0.70</td>\n",
       "      <td>0.00</td>\n",
       "      <td>1.9</td>\n",
       "      <td>0.076</td>\n",
       "      <td>11.0</td>\n",
       "      <td>34.0</td>\n",
       "      <td>0.9978</td>\n",
       "      <td>3.51</td>\n",
       "      <td>0.56</td>\n",
       "      <td>9.4</td>\n",
       "      <td>5</td>\n",
       "      <td>red</td>\n",
       "    </tr>\n",
       "    <tr>\n",
       "      <th>1</th>\n",
       "      <td>7.8</td>\n",
       "      <td>0.76</td>\n",
       "      <td>0.04</td>\n",
       "      <td>2.3</td>\n",
       "      <td>0.092</td>\n",
       "      <td>15.0</td>\n",
       "      <td>54.0</td>\n",
       "      <td>0.9970</td>\n",
       "      <td>3.26</td>\n",
       "      <td>0.65</td>\n",
       "      <td>9.8</td>\n",
       "      <td>5</td>\n",
       "      <td>red</td>\n",
       "    </tr>\n",
       "    <tr>\n",
       "      <th>2</th>\n",
       "      <td>7.4</td>\n",
       "      <td>0.70</td>\n",
       "      <td>0.00</td>\n",
       "      <td>1.9</td>\n",
       "      <td>0.076</td>\n",
       "      <td>11.0</td>\n",
       "      <td>34.0</td>\n",
       "      <td>0.9978</td>\n",
       "      <td>3.51</td>\n",
       "      <td>0.56</td>\n",
       "      <td>9.4</td>\n",
       "      <td>5</td>\n",
       "      <td>red</td>\n",
       "    </tr>\n",
       "    <tr>\n",
       "      <th>3</th>\n",
       "      <td>7.4</td>\n",
       "      <td>0.66</td>\n",
       "      <td>0.00</td>\n",
       "      <td>1.8</td>\n",
       "      <td>0.075</td>\n",
       "      <td>13.0</td>\n",
       "      <td>40.0</td>\n",
       "      <td>0.9978</td>\n",
       "      <td>3.51</td>\n",
       "      <td>0.56</td>\n",
       "      <td>9.4</td>\n",
       "      <td>5</td>\n",
       "      <td>red</td>\n",
       "    </tr>\n",
       "    <tr>\n",
       "      <th>4</th>\n",
       "      <td>7.9</td>\n",
       "      <td>0.60</td>\n",
       "      <td>0.06</td>\n",
       "      <td>1.6</td>\n",
       "      <td>0.069</td>\n",
       "      <td>15.0</td>\n",
       "      <td>59.0</td>\n",
       "      <td>0.9964</td>\n",
       "      <td>3.30</td>\n",
       "      <td>0.46</td>\n",
       "      <td>9.4</td>\n",
       "      <td>5</td>\n",
       "      <td>red</td>\n",
       "    </tr>\n",
       "  </tbody>\n",
       "</table>\n",
       "</div>"
      ],
      "text/plain": [
       "   fixed_acidity  volatile_acidity  citric_acid  residual_sugar  chlorides  \\\n",
       "0            7.4              0.70         0.00             1.9      0.076   \n",
       "1            7.8              0.76         0.04             2.3      0.092   \n",
       "2            7.4              0.70         0.00             1.9      0.076   \n",
       "3            7.4              0.66         0.00             1.8      0.075   \n",
       "4            7.9              0.60         0.06             1.6      0.069   \n",
       "\n",
       "   free_sulfur_dioxide  total_sulfur_dioxide  density    ph  sulphates  \\\n",
       "0                 11.0                  34.0   0.9978  3.51       0.56   \n",
       "1                 15.0                  54.0   0.9970  3.26       0.65   \n",
       "2                 11.0                  34.0   0.9978  3.51       0.56   \n",
       "3                 13.0                  40.0   0.9978  3.51       0.56   \n",
       "4                 15.0                  59.0   0.9964  3.30       0.46   \n",
       "\n",
       "   alcohol  quality type  \n",
       "0      9.4        5  red  \n",
       "1      9.8        5  red  \n",
       "2      9.4        5  red  \n",
       "3      9.4        5  red  \n",
       "4      9.4        5  red  "
      ]
     },
     "execution_count": 7,
     "metadata": {},
     "output_type": "execute_result"
    }
   ],
   "source": [
    "# Display sample of cleaned data\n",
    "df_clean_no_outliers.head()"
   ]
  },
  {
   "cell_type": "markdown",
   "id": "27746db3",
   "metadata": {},
   "source": [
    "**Summary of Cleaning Steps:**\n",
    "1. Verified no missing values - no action needed.\n",
    "2. Renamed columns to snake_case for consistency.\n",
    "3. Removed  outliers beyond 3 standard deviations to reduce noise.\n",
    "\n"
   ]
  },
  {
   "cell_type": "markdown",
   "id": "08566b3d",
   "metadata": {},
   "source": [
    "## 5. Analytical Questions\n",
    "\n",
    "Below are two of the required analytical questions addressed using aggregate functions, with results visualised."
   ]
  },
  {
   "cell_type": "markdown",
   "id": "f597ff13",
   "metadata": {},
   "source": [
    "### Question 1\n",
    "**What is the average alcohol content for each wine quality rating in the cleaned dataset?**"
   ]
  },
  {
   "cell_type": "code",
   "execution_count": 8,
   "id": "a4f4fbe9",
   "metadata": {},
   "outputs": [
    {
     "data": {
      "image/png": "[encoded data removed]",
      "text/plain": [
       "<Figure size 640x480 with 1 Axes>"
      ]
     },
     "metadata": {},
     "output_type": "display_data"
    }
   ],
   "source": [
    "\n",
    "import matplotlib.pyplot as plt\n",
    "\n",
    "# Aggregate: mean alcohol by quality\n",
    "alcohol_by_quality = df_clean_no_outliers.groupby('quality')['alcohol'].mean()\n",
    "\n",
    "# Plot\n",
    "plt.figure()\n",
    "alcohol_by_quality.plot(kind='bar')\n",
    "plt.title('Average Alcohol Content by Quality Rating')\n",
    "plt.xlabel('Quality (0–10)')\n",
    "plt.ylabel('Average Alcohol (%)')\n",
    "plt.tight_layout()\n",
    "plt.show()\n"
   ]
  },
  {
   "cell_type": "markdown",
   "id": "76b642e2",
   "metadata": {},
   "source": [
    "### Question 2\n",
    "**How does the average pH differ between red and white wines in the cleaned dataset?**"
   ]
  },
  {
   "cell_type": "code",
   "execution_count": 9,
   "id": "0c36ab77",
   "metadata": {},
   "outputs": [
    {
     "data": {
      "image/png": "[encoded data removed]",
      "text/plain": [
       "<Figure size 640x480 with 1 Axes>"
      ]
     },
     "metadata": {},
     "output_type": "display_data"
    }
   ],
   "source": [
    "col_pH = [c for c in df_clean_no_outliers.columns if c.lower().strip() == 'ph'][0]\n",
    "\n",
    "# Aggregate: mean pH by wine type\n",
    "pH_by_type = df_clean_no_outliers.groupby('type')[col_pH].mean()\n",
    "\n",
    "# Plot\n",
    "plt.figure()\n",
    "pH_by_type.plot(kind='bar')\n",
    "plt.title('Average pH by Wine Type')\n",
    "plt.xlabel('Wine Type')\n",
    "plt.ylabel('Average pH')\n",
    "plt.tight_layout()\n",
    "plt.show()\n"
   ]
  },
  {
   "cell_type": "markdown",
   "id": "e2a6ad8d",
   "metadata": {},
   "source": [
    "### Interpretation\n",
    "- *Question 1:* Higher quality wines tend to have slightly higher alcohol content on average, with quality 6–8 wines showing the highest alcohol levels.\n",
    "- *Question 2:* Red wines exhibit a lower (more acidic) average pH than white wines, consistent with typical enological expectations."
   ]
  }
 ],
 "metadata": {
  "kernelspec": {
   "display_name": "Python 3",
   "language": "python",
   "name": "python3"
  },
  "language_info": {
   "codemirror_mode": {
    "name": "ipython",
    "version": 3
   },
   "file_extension": ".py",
   "mimetype": "text/x-python",
   "name": "python",
   "nbconvert_exporter": "python",
   "pygments_lexer": "ipython3",
   "version": "3.12.8"
  }
 },
 "nbformat": 4,
 "nbformat_minor": 5
}
